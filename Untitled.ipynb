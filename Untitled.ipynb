{
 "cells": [
  {
   "cell_type": "markdown",
   "id": "4808afb7-46a3-4e12-b1d0-df9809b56402",
   "metadata": {},
   "source": [
    "Conteo de operaciones\n",
    "    * Asignación de variables\n",
    "    * Operaciones aritméticas\n",
    "    * Operaciones booleanas\n",
    "    * Acceso a arreglos\n",
    "    * Prints"
   ]
  },
  {
   "cell_type": "code",
   "execution_count": null,
   "id": "604305b8-94c6-4540-ba42-2f529df40962",
   "metadata": {},
   "outputs": [],
   "source": []
  }
 ],
 "metadata": {
  "kernelspec": {
   "display_name": "Python 3 (ipykernel)",
   "language": "python",
   "name": "python3"
  },
  "language_info": {
   "codemirror_mode": {
    "name": "ipython",
    "version": 3
   },
   "file_extension": ".py",
   "mimetype": "text/x-python",
   "name": "python",
   "nbconvert_exporter": "python",
   "pygments_lexer": "ipython3",
   "version": "3.12.3"
  }
 },
 "nbformat": 4,
 "nbformat_minor": 5
}
